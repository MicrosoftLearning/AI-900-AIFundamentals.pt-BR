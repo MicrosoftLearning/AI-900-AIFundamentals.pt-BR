{
  "cells": [
    {
      "cell_type": "markdown",
      "source": [
        "# IA conversacional\r\n",
        "\r\n",
        "Pense na frequência com que você se comunica com outras pessoas por mensagens instantâneas, mídias sociais, email ou outras tecnologias online. Para muitos de nós, é nossa forma de contato favorita. Quando você tem uma pergunta no trabalho, pode entrar em contato com um colega usando uma mensagem de chat, que pode ser usada em dispositivos móveis, então vocês estão sempre em contato.\r\n",
        "\r\n",
        "![Uma pessoa e um robô conversando](./images/conversational_ai.jpg)\r\n",
        "\r\n",
        "Bots são agentes de IA que se comunicam usando esses tipos de canais, possibilitando uma interação conversacional natural com serviços de software.\r\n",
        "\r\n",
        "## Criar uma base de dados de conhecimento no QnA Maker\r\n",
        "\r\n",
        "Em cenários de atendimento ao cliente, é comum criar um bot que consiga interpretar e responder às perguntas frequentes realizadas em uma janela de chat no site, por email ou interface de voz. Estruturando a interface de bot há uma base de dados de conhecimento de perguntas e respostas apropriadas, que o bot pode pesquisar em busca da resposta adequada.\r\n",
        "\r\n",
        "O serviço QnA Maker é um serviço cognitivo do Azure que permite a criação rápida de uma base de dados de conhecimento por meio da inserção de pares de perguntas e respostas, um documento ou uma página da Web existente. Em seguida, ele pode usar recursos integrados de processamento de linguagem natural para interpretar as perguntas e encontrar as respostas apropriadas.\r\n",
        "\r\n",
        "1. Abra outra guia do navegador e acesse o portal do QnA Maker em https://qnamaker.ai. Entre usando a conta Microsoft associada à sua assinatura do Azure.\r\n",
        "2. No portal do QnA Maker, selecione **Criar uma base de dados de conhecimento**.\r\n",
        "3. Caso ainda não tenha criado um recurso de serviço QnA, selecione **Criar um serviço QnA**. O portal do Azure será aberto em outra guia para que você crie um serviço do QnA Maker na sua assinatura. Use as seguintes configurações:\r\n",
        "   \r\n",
        "   - **Assinatura**: *sua assinatura do Azure*\r\n",
        "   - **Grupo de recursos**: *Selecione um grupo de recursos existente ou crie um novo*\r\n",
        "   - **Nome**: *Um nome exclusivo para seu recurso de QnA*\r\n",
        "   - **Tipo de preço**: F0\r\n",
        "   - **Tipo de preço do Azure Search**: F\r\n",
        "   - **Localização do Azure Search**: *Qualquer localização disponível*\r\n",
        "   - **Nome do aplicativo**: _Igual ao **Nome** (\".azurewebsites.net\" será anexado automaticamente)_\r\n",
        "   - **Localização do site**: _Igual à **Localização do Azure Search**_\r\n",
        "   - **Insights do aplicativo**: Desabilitar\r\n",
        "\r\n",
        "> **Observação**: Se você já tiver provisionado recursos do **QnA Maker** ou **Azure Search** da camada gratuita, talvez sua cota não permita a criação de mais um. Neste caso, selecione um nível diferente de **F0** / **F**.\r\n",
        "\r\n",
        "4. Aguarde a implantação do serviço QnA e a conclusão dos recursos relacionados no Portal do Azure.\r\n",
        "5. Volte para a guia do portal do QnA Maker e, na seção **Etapa 2**, clique em **Atualizar** para atualizar a lista de recursos do serviço QnA disponíveis.\r\n",
        "6. Conecte seu serviço QnA à base de dados de conhecimento selecionando as opções abaixo:\r\n",
        "  - **ID do diretório do Microsoft Azure**: *a ID do diretório do Azure da sua assinatura*\r\n",
        "  - **Nome da assinatura do Azure**: *sua assinatura do Azure*\r\n",
        "  - **Serviço QnA do Azure**: *o recurso de serviço QnA que você criou na etapa anterior*\r\n",
        "  - **Idioma**: Inglês\r\n",
        "\r\n",
        "### (!) Verificação\r\n",
        "Caso seja exibida uma mensagem informando que a função não tem permissão para realizar a ação, atualize a página do navegador com o portal do QnA Maker.\r\n",
        "\r\n",
        "7. Na seção **Etapa 3**, insira o nome **Margie's Travel KB**.\r\n",
        "8. Na seção **Etapa 4**, na caixa **URL**, digite *https://github.com/MicrosoftLearning/mslearn-ai900/raw/main/data/qna_bot/margies_faq.docx* e clique em **+ Adicionar URL**. Depois, na seção **Bate-papo**, selecione **Profissional**.\r\n",
        "9. Na seção **Etapa 5**, clique em **Criar sua base de dados de conhecimento**.\r\n",
        "10. Aguarde alguns minutos até que a base de dados de conhecimento seja criada. Em seguida, analise as perguntas e respostas que foram importadas do documento de perguntas frequentes e as respostas predefinidas do bate-papo profissional.\r\n"
      ],
      "metadata": {}
    },
    {
      "cell_type": "markdown",
      "source": [
        "## Editar base de dados de conhecimento\r\n",
        "\r\n",
        "Sua base de dados de conhecimento é baseada nos detalhes do documento de perguntas frequentes e em algumas respostas predefinidas. Você pode adicionar pares de pergunta e resposta personalizados para complementar.\r\n",
        "\r\n",
        "1. Clique em **+ Adicionar par de pergunta e resposta**.\r\n",
        "2. Na caixa **Pergunta**, digite `Hello`. Depois, clique em **+ Adicionar frase alternativa** e digite `Hi`.\r\n",
        "3. Na caixa **Resposta**, digite `Hello`.\r\n",
        "\r\n",
        "## Treinar e testar a base de dados de conhecimento\r\n",
        "\r\n",
        "Agora que você já tem uma base de dados de conhecimento, poderá testá-la no portal do QnA Maker.\r\n",
        "\r\n",
        "1. No canto superior direito da página, clique em **Salvar e treinar** para treinar sua base de dados de conhecimento. Talvez seja preciso alterar o tamanho da janela para ver o botão.\r\n",
        "2. Depois que o treinamento for concluído, clique em **&larr; Testar** para abrir o painel de teste.\r\n",
        "3. Na parte inferior do painel de teste, insira a mensagem *Oi*. A resposta **Olá** deverá ser retornada.\r\n",
        "4. Na parte inferior do painel de teste, insira a mensagem *Gostaria de reservar um voo*. Uma resposta apropriada das perguntas frequentes deverá ser retornada.\r\n",
        "5. Quando terminar de testar a base de dados de conhecimento, clique em **&rarr; Testar** para fechar o painel de teste.\r\n"
      ],
      "metadata": {}
    },
    {
      "cell_type": "markdown",
      "source": [
        "## Criar um bot para a base de dados de conhecimento\r\n",
        "\r\n",
        "A base de dados de conhecimento oferece um serviço de back-end que os aplicativos clientes podem usar para responder perguntas através de algum tipo de interface do usuário. normalmente, esses aplicativos clientes são bots. Para disponibilizar a base de dados de conhecimento para um bot, é preciso publicá-la como um serviço que pode ser acessado por HTTP. Use o Serviço de Bot do Azure para criar e hospedar um bot que usa a base de dados de conhecimento para responder às perguntas dos usuários.\r\n",
        "\r\n",
        "1. Na parte superior da página do QnA Maker, clique em **Publicar**. Depois, na página **Margie’s Travel KB**, clique em **Publicar**.\r\n",
        "2. Depois que o serviço for implantado, clique em **Criar bot**. Essa opção abre o portal do Azure em uma nova guia do navegador para que você crie um bot de aplicativo web na sua assinatura do Azure.\r\n",
        "3. No portal do Azure, crie um bot de aplicativo web com as seguintes configurações (a maioria delas será preenchida previamente):\r\n",
        "  - **Identificador do bot**: *um nome exclusivo para seu bot*\r\n",
        "  - **Assinatura**: *sua assinatura do Azure*\r\n",
        "  - **Grupo de recursos**: *o grupo de recursos que contém seu recurso do QnA Maker*\r\n",
        "  - **Localização**: *a mesma localização do seu serviço do QnA Maker*.\r\n",
        "  - **Tipo de preço**: F0\r\n",
        "  - **Nome do aplicativo**: *Igual ao **Identificador do bot** com *.azurewebsites.net* anexado automaticamente\r\n",
        "  - **Linguagem do SDK**: *Escolha entre C# ou Node.js*\r\n",
        "  - **Chave de autenticação de QnA**: *Deve ser definida automaticamente como a chave de autenticação da sua base de dados de conhecimento de perguntas e respostas*\r\n",
        "  - **Plano do Serviço/Localização de Aplicativo**: *Deve ser definido automaticamente como um plano e uma localização adequados*\r\n",
        "  - **Application Insights**: Desativado\r\n",
        "  - **ID e senha do Aplicativo da Microsoft**: Criar automaticamente ID do aplicativo e senha.\r\n",
        "4. Aguarde enquanto o bot é criado (o ícone de notificação do canto superior direito, parecido com um sino, ficará animado enquanto você espera). Em seguida, na notificação que diz que a implantação foi concluída, clique em **Ir para o recurso** (ou, na página inicial, selecione **Grupos de recursos**, abra o grupo de recursos em que você criou o bot de aplicativo web e clique nele.)\r\n",
        "5. No painel esquerdo de seu bot, procure **Configurações** e clique em **Testar no Webchat** e aguarde até que o bot exiba a mensagem **Olá, seja bem-vindo(a)!** (a inicialização pode levar alguns segundos).\r\n",
        "6. Use a interface de teste do chat para verificar se o bot responde às perguntas da sua base de dados de conhecimento conforme o esperado. Por exemplo, tente enviar *Preciso cancelar meu hotel*.\r\n"
      ],
      "metadata": {}
    },
    {
      "cell_type": "markdown",
      "source": [
        "## Acessar o bot por um canal\r\n",
        "\r\n",
        "Um bot pode ser usado para fornecer uma interface para os usuários por um ou mais *canais*. Por exemplo, o mesmo bot pode dar suporte às interações em uma interface de Webchat, por email e no Microsoft Teams.\r\n",
        "\r\n",
        "1. No painel esquerdo de seu bot, procure **Configurações** e clique em **Canais**.\r\n",
        "2. Observe que o canal **Webchat** foi adicionado automaticamente e que outros canais de plataformas de comunicação comuns estão disponíveis.\r\n",
        "3. Ao lado do canal **Webchat**, clique em **Editar**. Essa ação abre uma página com as configurações que você precisa para inserir seu bot em uma página da Web. Para inserir o bot, é necessário ter o código de inserção HTML fornecido, além de uma das chaves secretas geradas para o seu bot.\r\n",
        "4. Copie o **Código de inserção** e cole na célula abaixo, substituindo o comentário `<!-- EMBED CODE GOES HERE -->`.\r\n",
        "5. Clique em **Mostrar** em uma das suas chaves secretas (não importa qual) e copie os dados. Depois, cole-os no código de inserção HTML abaixo, substituindo `YOUR_SECRET_HERE`.\r\n",
        "6. Altere o valor de **altura mínima** do seu código HTML para **200 px** (em vez do padrão de 500 px). Isso ajudará a garantir que a interface HTML fique visível sem precisar rolar a página.\r\n",
        "7. Execute a célula abaixo clicando no botão **Executar célula** (&#9655;) à esquerda dela para renderizar o HTML.\r\n",
        "8. Na interface de chat HTML, teste o bot enviando uma pergunta, como *Quem é Margie?* ou *Para quais destinos posso ir?* (quando o bot for inicializado, ele poderá enviar a mensagem *Olá, seja bem-vindo(a)* além de responder à sua pergunta)."
      ],
      "metadata": {}
    },
    {
      "cell_type": "code",
      "execution_count": null,
      "source": [
        "%%html\r\n",
        "\r\n",
        "<!-- EMBED CODE GOES HERE -->"
      ],
      "outputs": [],
      "metadata": {}
    },
    {
      "cell_type": "markdown",
      "source": [
        "Faça experiências com o bot. Provavelmente você descobrirá que ele consegue responder às perguntas frequentes com precisão, mas tem uma capacidade limitada de interpretar perguntas que não foram treinadas. Você sempre pode usar o portal do QnA Maker para editar a base de dados de conhecimento a fim de melhorá-la, e depois publicá-la novamente.\r\n",
        "\r\n",
        "## Saiba mais\r\n",
        "\r\n",
        "- Para saber mais sobre o serviço QnA Maker, consulte a [documentação do QnA Maker](https://docs.microsoft.com/azure/cognitive-services/qnamaker/).\r\n",
        "- Para saber mais sobre o Serviço de Bot do Azure, consulte a [página do Serviço de Bot do Azure](https://azure.microsoft.com/services/bot-service/)."
      ],
      "metadata": {}
    }
  ],
  "metadata": {
    "language_info": {
      "name": "python",
      "version": "3.6.9",
      "mimetype": "text/x-python",
      "codemirror_mode": {
        "name": "ipython",
        "version": 3
      },
      "pygments_lexer": "ipython3",
      "nbconvert_exporter": "python",
      "file_extension": ".py"
    },
    "kernelspec": {
      "name": "python3-azureml",
      "language": "python",
      "display_name": "Python 3.6 - AzureML"
    },
    "kernel_info": {
      "name": "python3-azureml"
    },
    "nteract": {
      "version": "nteract-front-end@1.0.0"
    }
  },
  "nbformat": 4,
  "nbformat_minor": 2
}