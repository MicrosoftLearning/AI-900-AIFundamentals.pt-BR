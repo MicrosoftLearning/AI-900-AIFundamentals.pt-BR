{
  "cells": [
    {
      "cell_type": "markdown",
      "source": [
        "# Tradução\r\n",
        "\r\n",
        "Uma das forças motrizes que possibilitaram o desenvolvimento da civilização humana é a capacidade de se comunicar uns com os outros. Na maioria das atividades humanas, a comunicação é a chave.\r\n",
        "\r\n",
        "![Um robô multilíngue](./images/translation.jpg)\r\n",
        "\r\n",
        "A inteligência artificial (IA) pode ajudar a simplificar a comunicação ao traduzir texto ou fala entre idiomas, ajudando a remover barreiras da comunicação entre países e culturas.\r\n",
        "\r\n",
        "## Criar um recurso dos Serviços Cognitivos\r\n",
        "\r\n",
        "No Azure, você pode usar os Serviços Cognitivos para fazer a tradução entre vários idiomas.\r\n",
        "\r\n",
        "Caso você ainda não tenha um, use as etapas a seguir para criar um recurso dos **Serviços Cognitivos** na sua assinatura do Azure:\r\n",
        "\r\n",
        "> **Observação**: Se você já tiver um recurso dos Serviços Cognitivos, abra a página de **Início Rápido** no portal do Azure e copie a respectiva chave e o ponto de extremidade para a célula abaixo. Caso contrário, siga as etapas abaixo para criar um.\r\n",
        "\r\n",
        "1. Em outra guia do navegador, abra o portal do Azure em https://portal.azure.com, entrando com sua conta Microsoft.\r\n",
        "2. Clique no botão **&#65291;Criar um recurso**, procure *Serviços Cognitivos* e crie um recurso dos **Serviços Cognitivos** com as configurações abaixo:\r\n",
        "    - **Assinatura**: *sua assinatura do Azure*.\r\n",
        "    - **Grupo de recursos**: *Selecione ou crie um grupo de recursos com um nome exclusivo*.\r\n",
        "    - **Região**: *Escolha qualquer região disponível*:\r\n",
        "    - **Nome**: *Insira um nome exclusivo*.\r\n",
        "    - **Tipo de preço**: S0\r\n",
        "    - **Confirmo que li e entendi os avisos**: Selecionado.\r\n",
        "3. Aguarde até que a implantação seja concluída. Depois, entre em seu recurso dos Serviços Cognitivos e, na página **Visão geral**, clique no link para gerenciar as chaves do serviço. Você precisará do ponto de extremidade e das chaves para se conectar aos seus recursos dos Serviços Cognitivos em aplicativos clientes.\r\n",
        "\r\n",
        "### Obter a chave e a localização do seu recurso dos Serviços Cognitivos\r\n",
        "\r\n",
        "Para usar seu recurso dos Serviços Cognitivos, os aplicativos clientes precisam da chave de autenticação e da localização:\r\n",
        "\r\n",
        "1. No portal do Azure, na página **Chaves e ponto de extremidade** do seu recurso dos Serviços Cognitivos, copie a **Chave 1** do recurso e cole no código abaixo, substituindo **YOUR_COG_KEY**.\r\n",
        "2. Copie a **Localização** do recurso e cole no código abaixo, substituindo **YOUR_COG_LOCATION**.\r\n",
        ">**Observação**: continue na página **Chave e ponto de extremidade** e copie a **Localização** desta página (por exemplo: _westus_). _Não_ adicione espaços entre as palavras no campo Localização. \r\n",
        "3. Execute o código abaixo clicando no botão **Executar célula** (&#9655;) à esquerda."
      ],
      "metadata": {}
    },
    {
      "cell_type": "code",
      "source": [
        "cog_key = 'YOUR_COG_KEY'\n",
        "cog_location = 'YOUR_COG_LOCATION'\n",
        "\n",
        "print('Ready to use cognitive services in {} using key {}'.format(cog_location, cog_key))"
      ],
      "outputs": [],
      "execution_count": null,
      "metadata": {
        "gather": {
          "logged": 1599695377020
        }
      }
    },
    {
      "cell_type": "markdown",
      "source": [
        "## Traduzindo texto\r\n",
        "\r\n",
        "Como o próprio nome sugere, o serviço **Tradução de texto** permite que você traduza textos de um idioma para outro.\r\n",
        "\r\n",
        "Não há um SDK do Python para este serviço, mas você pode usar a interface REST para enviar solicitações a um ponto de extremidade por HTTP, o que é relativamente fácil de se fazer no Python usando a biblioteca de **solicitações**. As informações sobre o texto que será traduzido e o material resultante são trocadas em formato JSON.\r\n",
        "\r\n",
        "Execute a célula a seguir para criar uma função que faça isso. Depois, teste a função com uma tradução simples do inglês para o francês."
      ],
      "metadata": {}
    },
    {
      "cell_type": "code",
      "source": [
        "# Create a function that makes a REST request to the Text Translation service\r\n",
        "def translate_text(cog_location, cog_key, text, to_lang='fr', from_lang='en'):\n",
        "    import requests, uuid, json\n",
        "\n",
        "    # Create the URL for the Text Translator service REST request\n",
        "    path = 'https://api.cognitive.microsofttranslator.com/translate?api-version=3.0'\n",
        "    params = '&from={}&to={}'.format(from_lang, to_lang)\n",
        "    constructed_url = path + params\n",
        "\n",
        "    # Prepare the request headers with Cognitive Services resource key and region\n",
        "    headers = {\n",
        "        'Ocp-Apim-Subscription-Key': cog_key,\n",
        "        'Ocp-Apim-Subscription-Region':cog_location,\n",
        "        'Content-type': 'application/json',\n",
        "        'X-ClientTraceId': str(uuid.uuid4())\n",
        "    }\n",
        "\n",
        "    # Add the text to be translated to the body\n",
        "    body = [{\n",
        "        'text': text\n",
        "    }]\n",
        "\n",
        "    # Get the translation\n",
        "    request = requests.post(constructed_url, headers=headers, json=body)\n",
        "    response = request.json()\n",
        "    return response[0][\"translations\"][0][\"text\"]\n",
        "\n",
        "\n",
        "# Test the function\r\n",
        "text_to_translate = \"Hello\"\n",
        "\n",
        "translation = translate_text(cog_location, cog_key, text_to_translate, to_lang='fr', from_lang='en')\n",
        "print('{} -> {}'.format(text_to_translate,translation))"
      ],
      "outputs": [],
      "execution_count": null,
      "metadata": {
        "gather": {
          "logged": 1599695393341
        }
      }
    },
    {
      "cell_type": "markdown",
      "source": [
        "O serviço deverá ter traduzido o texto em inglês \"Hello\" para \"Bonjour\", em francês.\r\n",
        "\r\n",
        "Note que os idiomas são especificados usando um sistema padrão de abreviações, com *en* para inglês e *fr* para francês. Você também pode usar abreviações que incluem culturas específicas, recurso útil quando o mesmo idioma é usado em áreas geográficas diferentes, em geral, com regras de ortografia diferentes. Por exemplo, *en-US* indica inglês dos Estados Unidos, enquanto *en-GB* indica inglês da Grã-Bretanha.\r\n",
        "\r\n",
        "Execute a célula a seguir para traduzir entre inglês britânico e italiano."
      ],
      "metadata": {}
    },
    {
      "cell_type": "code",
      "source": [
        "text_to_translate = \"Hello\"\n",
        "\n",
        "translation = translate_text(cog_location, cog_key, text_to_translate, to_lang='it-IT', from_lang='en-GB')\n",
        "print('{} -> {}'.format(text_to_translate,translation))"
      ],
      "outputs": [],
      "execution_count": null,
      "metadata": {
        "gather": {
          "logged": 1599695400335
        }
      }
    },
    {
      "cell_type": "markdown",
      "source": [
        "Vamos testar outra tradução, desta vez, de inglês norte-americano para chinês."
      ],
      "metadata": {}
    },
    {
      "cell_type": "code",
      "source": [
        "text_to_translate = \"Hello\"\n",
        "\n",
        "translation = translate_text(cog_location, cog_key, text_to_translate, to_lang='zh-CN', from_lang='en-US')\n",
        "print('{} -> {}'.format(text_to_translate,translation))"
      ],
      "outputs": [],
      "execution_count": null,
      "metadata": {
        "gather": {
          "logged": 1599695403076
        }
      }
    },
    {
      "cell_type": "markdown",
      "source": [
        "## Tradução de Fala\r\n",
        "\r\n",
        "Você pode usar o serviço de **Fala** para traduzir linguagem falada.\r\n",
        "\r\n",
        "Agora, execute a célula abaixo para criar e testar uma função que usa o SDK de Fala para traduzir fala audível.\r\n",
        "\r\n",
        "> **Observação**: Você precisará de alto-falantes para ouvir o áudio."
      ],
      "metadata": {}
    },
    {
      "cell_type": "code",
      "source": [
        "from playsound import playsound \n",
        "\n",
        "# Create a function to translate audio in one language to text in another\r\n",
        "def translate_speech(cog_location, cog_key, audio_file=None, to_lang='fr-FR', from_lang='en-US'):\n",
        "    from azure.cognitiveservices.speech import SpeechConfig, AudioConfig, ResultReason\n",
        "    from azure.cognitiveservices.speech.translation import SpeechTranslationConfig, TranslationRecognizer\n",
        "\n",
        "    # Configure the speech translation service\n",
        "    translation_config = SpeechTranslationConfig(subscription=cog_key, region=cog_location)\n",
        "    translation_config.speech_recognition_language = from_lang\n",
        "    translation_config.add_target_language(to_lang)\n",
        "\n",
        "    # Configure audio input\n",
        "    if audio_file is None:\n",
        "        audio_config = AudioConfig() # Use default input (microphone)\n",
        "    else:\n",
        "        audio_config = AudioConfig(filename=audio_file) # Use file input\n",
        "\n",
        "    # Create a translation recognizer and use it to translate speech input\n",
        "    recognizer = TranslationRecognizer(translation_config, audio_config)\n",
        "    result = recognizer.recognize_once()\n",
        "\n",
        "    # Did we get it?\n",
        "    translation = ''\n",
        "    speech_text = ''\n",
        "    if result.reason == ResultReason.TranslatedSpeech:\n",
        "        speech_text = result.text\n",
        "        translation =  result.translations[to_lang]\n",
        "    elif result.reason == ResultReason.RecognizedSpeech:\n",
        "        speech_text = result.text\n",
        "        translation =  'Unable to translate speech'\n",
        "    else:\n",
        "        translation = 'Unknown'\n",
        "        speech_text = 'Unknown'\n",
        "\n",
        "    # rturn the translation\n",
        "    return speech_text, translation\n",
        "    \n",
        "\n",
        "# Test the function\r\n",
        "import os\n",
        "\n",
        "file_name = 'english.wav'\n",
        "file_path = os.path.join('data', 'translation', file_name)\n",
        "speech, translated_speech = translate_speech(cog_location, cog_key, file_path, to_lang='es', from_lang='en-US')\n",
        "result = '{} -> {}'.format(speech, translated_speech)\n",
        "\n",
        "# Show translated text\r\n",
        "playsound(file_path)\n",
        "print(result)"
      ],
      "outputs": [],
      "execution_count": null,
      "metadata": {
        "gather": {
          "logged": 1599695532629
        }
      }
    },
    {
      "cell_type": "markdown",
      "source": [
        "Observe que o idioma de destino precisa ser identificado por um código de idioma de dois caracteres (por exemplo, *en*), enquanto o idioma de origem deve incluir o indicador de cultura (por exemplo, *en-US*).\r\n",
        "\r\n",
        "Vamos tentar traduzir do francês para o inglês."
      ],
      "metadata": {}
    },
    {
      "cell_type": "code",
      "source": [
        "from playsound import playsound\n",
        "import os\n",
        "\n",
        "file_name = 'french.wav'\n",
        "file_path = os.path.join('data', 'translation', file_name)\n",
        "speech, translated_speech = translate_speech(cog_location, cog_key, file_path, to_lang='en', from_lang='fr-FR')\n",
        "result = '{} -> {}'.format(speech, translated_speech)\n",
        "\n",
        "# Show translated text\r\n",
        "playsound(file_path)\n",
        "print(result)"
      ],
      "outputs": [],
      "execution_count": null,
      "metadata": {
        "gather": {
          "logged": 1599695542192
        }
      }
    },
    {
      "cell_type": "markdown",
      "source": [
        "## Saiba mais\r\n",
        "\r\n",
        "Saiba mais sobre a [Tradução de Texto](https://docs.microsoft.com/azure/cognitive-services/translator/) e a [tradução com o serviço de Fala](https://docs.microsoft.com/azure/cognitive-services/speech-service/index-speech-translation) na documentação do serviço."
      ],
      "metadata": {}
    }
  ],
  "metadata": {
    "language_info": {
      "name": "python",
      "version": "3.6.9",
      "mimetype": "text/x-python",
      "codemirror_mode": {
        "name": "ipython",
        "version": 3
      },
      "pygments_lexer": "ipython3",
      "nbconvert_exporter": "python",
      "file_extension": ".py"
    },
    "kernelspec": {
      "name": "python3-azureml",
      "language": "python",
      "display_name": "Python 3.6 - AzureML"
    },
    "kernel_info": {
      "name": "python3-azureml"
    },
    "nteract": {
      "version": "nteract-front-end@1.0.0"
    }
  },
  "nbformat": 4,
  "nbformat_minor": 2
}