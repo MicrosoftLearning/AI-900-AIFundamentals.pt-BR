{
  "cells": [
    {
      "cell_type": "markdown",
      "source": [
        "# Análise de imagens com o Serviço de Pesquisa Visual Computacional\r\n",
        "\r\n",
        "![Um robô segurando uma foto](./images/computer_vision.jpg)\r\n",
        "\r\n",
        "*Pesquisa Visual Computacional* é um ramo da inteligência artificial (IA) que explora o desenvolvimento de sistemas de IA capazes de \"enxergar\" o mundo em tempo real por meio de uma câmera ou analisando imagens e vídeos. Isso é possível graças ao fato de que as imagens digitais são basicamente matrizes de valores numéricos de pixels, e nós podemos usar esses valores de pixels como *recursos* para treinar modelos de machine learning capazes de classificar imagens, detectar objetos distintos em uma imagem e até gerar resumos de fotografias baseados em texto.\r\n",
        "\r\n",
        "## Usar o Serviço Cognitivo de Pesquisa Visual Computacional\r\n",
        "\r\n",
        "O Microsoft Azure inclui diversos *serviços cognitivos* que reúnem funções de IA comuns, inclusive algumas que podem ajudar você a desenvolver soluções de pesquisa visual computacional.\r\n",
        "\r\n",
        "O serviço cognitivo de *Pesquisa Visual Computacional* é um ponto de partida óbvio para a nossa exploração da pesquisa visual computacional no Azure. Ele usa modelos de machine learning pré-treinados para analisar imagens e extrair informações sobre elas.\r\n",
        "\r\n",
        "Por exemplo, suponha que a Northwind Traders tenha decidido implementar uma \"loja inteligente\", em que serviços de IA monitoram o estabelecimento para identificar os clientes que precisam de ajuda e direcionar funcionários para auxiliá-los. Usando o serviço de Pesquisa Visual Computacional, imagens captadas por câmeras em toda a loja podem ser analisadas para fornecer descrições significativas daquilo que elas retratam.\r\n",
        "\r\n",
        "### Criar um recurso dos Serviços Cognitivos\r\n",
        "\r\n",
        "Vamos começar criando um recurso dos **Serviços Cognitivos** na sua assinatura do Azure:\r\n",
        "\r\n",
        "1. Em outra guia do navegador, abra o portal do Azure em https://portal.azure.com, entrando com sua conta Microsoft.\r\n",
        "2. Clique no botão **&#65291;Criar um recurso**, procure *Serviços Cognitivos* e crie um recurso dos **Serviços Cognitivos** com as configurações abaixo:\r\n",
        "    - **Assinatura**: *sua assinatura do Azure*.\r\n",
        "    - **Grupo de recursos**: *Selecione ou crie um grupo de recursos com um nome exclusivo*.\r\n",
        "    - **Região**: *Escolha qualquer região disponível*:\r\n",
        "    - **Nome**: *Insira um nome exclusivo*.\r\n",
        "    - **Tipo de preço**: S0\r\n",
        "    - **Confirmo que li e entendi os avisos**: Selecionado.\r\n",
        "3. Aguarde até que a implantação seja concluída. Depois, entre em seu recurso dos Serviços Cognitivos e, na página **Visão geral**, clique no link para gerenciar as chaves do serviço. Você precisará do ponto de extremidade e das chaves para se conectar aos seus recursos dos Serviços Cognitivos em aplicativos clientes.\r\n",
        "\r\n",
        "### Obter a chave e o ponto de extremidade do seu recurso dos Serviços Cognitivos\r\n",
        "\r\n",
        "Para usar seu recurso dos Serviços Cognitivos, os aplicativos clientes precisam do ponto de extremidade e da chave de autenticação:\r\n",
        "\r\n",
        "1. No portal do Azure, na página **Chaves e ponto de extremidade** do seu recurso dos Serviços Cognitivos, copie a **Chave 1** do recurso e cole no código abaixo, substituindo **YOUR_COG_KEY**.\r\n",
        "2. Copie o **ponto de extremidade** do recurso e cole no código abaixo, substituindo **YOUR_COG_ENDPOINT**.\r\n",
        "3. Execute o código abaixo selecionando a célula e clicando no botão **Executar célula** (&#9655;) à esquerda."
      ],
      "metadata": {}
    },
    {
      "cell_type": "code",
      "source": [
        "cog_key = 'YOUR_COG_KEY'\n",
        "cog_endpoint = 'YOUR_COG_ENDPOINT'\n",
        "\n",
        "print('Ready to use cognitive services at {} using key {}'.format(cog_endpoint, cog_key))"
      ],
      "outputs": [],
      "execution_count": null,
      "metadata": {
        "gather": {
          "logged": 1599691487445
        }
      }
    },
    {
      "cell_type": "markdown",
      "source": [
        "Agora que você já configurou a chave e o ponto de extremidade, poderá usar o serviço de Pesquisa Visual Computacional para analisar uma imagem.\r\n",
        "\r\n",
        "Execute a célula a seguir para obter uma descrição da imagem no arquivo */data/vision/store_cam1.jpg*."
      ],
      "metadata": {}
    },
    {
      "cell_type": "code",
      "source": [
        "from azure.cognitiveservices.vision.computervision import ComputerVisionClient\n",
        "from msrest.authentication import CognitiveServicesCredentials\n",
        "from python_code import vision\n",
        "import os\n",
        "%matplotlib inline\n",
        "\n",
        "# Get the path to an image file\r\n",
        "image_path = os.path.join('data', 'vision', 'store_cam1.jpg')\n",
        "\n",
        "# Get a client for the computer vision service\r\n",
        "computervision_client = ComputerVisionClient(cog_endpoint, CognitiveServicesCredentials(cog_key))\n",
        "\n",
        "# Get a description from the computer vision service\r\n",
        "image_stream = open(image_path, \"rb\")\n",
        "description = computervision_client.describe_image_in_stream(image_stream)\n",
        "\n",
        "# Display image and caption (code in helper_scripts/vision.py)\r\n",
        "vision.show_image_caption(image_path, description)\n"
      ],
      "outputs": [],
      "execution_count": null,
      "metadata": {
        "gather": {
          "logged": 1599691518279
        }
      }
    },
    {
      "cell_type": "markdown",
      "source": [
        "Parece razoavelmente precisa.\r\n",
        "\r\n",
        "Vamos tentar com outra imagem."
      ],
      "metadata": {}
    },
    {
      "cell_type": "code",
      "source": [
        "# Get the path to an image file\r\n",
        "image_path = os.path.join('data', 'vision', 'store_cam2.jpg')\n",
        "\n",
        "# Get a description from the computer vision service\r\n",
        "image_stream = open(image_path, \"rb\")\n",
        "description = computervision_client.describe_image_in_stream(image_stream)\n",
        "\n",
        "# Display image and caption (code in helper_scripts/vision.py)\r\n",
        "vision.show_image_caption(image_path, description)"
      ],
      "outputs": [],
      "execution_count": null,
      "metadata": {
        "gather": {
          "logged": 1599691524330
        }
      }
    },
    {
      "cell_type": "markdown",
      "source": [
        "De novo, a legenda sugerida parece bem precisa.\r\n",
        "\r\n",
        "## Analisar recursos da imagem\r\n",
        "\r\n",
        "Até agora, você usou o serviço de Pesquisa Visual Computacional para gerar uma legenda descritiva de algumas imagens, mas há muitas outras possibilidades. O serviço de Pesquisa Visual Computacional oferece recursos analíticos que conseguem extrair informações detalhadas, como:\r\n",
        "\r\n",
        "- A localização de tipos comuns de objetos detectados na imagem.\r\n",
        "- Localização e idade aproximada de rostos humanos na imagem.\r\n",
        "- Determinar se a imagem inclui algum conteúdo “adulto”, “estimulante” ou “sangrento”.\r\n",
        "- Marcas relevantes que podem ser associadas à imagem em um banco de dados para torná-la mais fácil de ser encontrada.\r\n",
        "\r\n",
        "Execute o código a seguir para analisar uma imagem de um comprador."
      ],
      "metadata": {}
    },
    {
      "cell_type": "code",
      "source": [
        "# Get the path to an image file\r\n",
        "image_path = os.path.join('data', 'vision', 'store_cam1.jpg')\n",
        "\n",
        "# Specify the features we want to analyze\r\n",
        "features = ['Description', 'Tags', 'Adult', 'Objects', 'Faces']\n",
        "\n",
        "# Get an analysis from the computer vision service\r\n",
        "image_stream = open(image_path, \"rb\")\n",
        "analysis = computervision_client.analyze_image_in_stream(image_stream, visual_features=features)\n",
        "\n",
        "# Show the results of analysis (code in helper_scripts/vision.py)\r\n",
        "vision.show_image_analysis(image_path, analysis)"
      ],
      "outputs": [],
      "execution_count": null,
      "metadata": {
        "gather": {
          "logged": 1599691530747
        }
      }
    },
    {
      "cell_type": "markdown",
      "source": [
        "## Saiba mais\r\n",
        "\r\n",
        "Além dos recursos explorados neste notebook, o serviço cognitivo de Pesquisa Visual Computacional inclui a capacidade de:\r\n",
        "\r\n",
        "- Identificar celebridades em imagens.\r\n",
        "- Detectar logotipos de marcas em uma imagem.\r\n",
        "- Realizar o reconhecimento óptico de caracteres (OCR) para ler textos de imagens.\r\n",
        "\r\n",
        "Para saber mais sobre o serviço cognitivo de Pesquisa Visual Computacional, consulte a [documentação da Pesquisa Visual Computacional](https://docs.microsoft.com/azure/cognitive-services/computer-vision/)\r\n"
      ],
      "metadata": {}
    }
  ],
  "metadata": {
    "language_info": {
      "name": "python",
      "version": "3.6.9",
      "mimetype": "text/x-python",
      "codemirror_mode": {
        "name": "ipython",
        "version": 3
      },
      "pygments_lexer": "ipython3",
      "nbconvert_exporter": "python",
      "file_extension": ".py"
    },
    "kernelspec": {
      "name": "python3-azureml",
      "language": "python",
      "display_name": "Python 3.6 - AzureML"
    },
    "kernel_info": {
      "name": "python3-azureml"
    },
    "nteract": {
      "version": "nteract-front-end@1.0.0"
    }
  },
  "nbformat": 4,
  "nbformat_minor": 2
}