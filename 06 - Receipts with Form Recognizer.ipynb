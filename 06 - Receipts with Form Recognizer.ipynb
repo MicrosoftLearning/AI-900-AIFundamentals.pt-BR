{
  "cells": [
    {
      "cell_type": "markdown",
      "source": [
        "# Análise de recibos com o Reconhecimento de Formulários\r\n",
        "\r\n",
        "![Um robô segurando um recibo](./images/receipt_analysis.jpg)\r\n",
        "\r\n",
        "No campo de pesquisa visual computacional da inteligência artificial (IA), o reconhecimento óptico de caracteres (OCR) é comumente usado para ler documentos impressos ou manuscritos. Em geral, o texto é simplesmente extraído dos documentos em um formato que possa ser usado para processamento ou análise posterior.\r\n",
        "\r\n",
        "Um cenário de OCR mais avançado é a extração de informações de formulários, como pedidos ou faturas de compras, com um reconhecimento semântico do que os campos daquele formulário representam. O serviço de **Reconhecimento de Formulários** foi desenvolvido especificamente para esse tipo de problema de IA.\r\n",
        "\r\n",
        "## Ver um recibo\r\n",
        "\r\n",
        "Neste exemplo, você usará o modelo integrado do Reconhecimento de Formulários para analisar recibos.\r\n",
        "\r\n",
        "Clique no botão **Executar célula** (&#9655;) abaixo (à esquerda da célula) para executá-la e ver um exemplo de recibo que você analisará com o Reconhecimento de Formulários."
      ],
      "metadata": {}
    },
    {
      "cell_type": "code",
      "source": [
        "import matplotlib.pyplot as plt\n",
        "from PIL import Image\n",
        "import os\n",
        "%matplotlib inline\n",
        "\n",
        "\n",
        "# Load and display a receipt image\r\n",
        "fig = plt.figure(figsize=(6, 6))\n",
        "image_path = os.path.join('data', 'form-receipt', 'receipt.jpg')\n",
        "img = Image.open(image_path)\n",
        "plt.axis('off')\n",
        "plt.imshow(img)"
      ],
      "outputs": [],
      "execution_count": null,
      "metadata": {
        "gather": {
          "logged": 1599694427893
        }
      }
    },
    {
      "cell_type": "markdown",
      "source": [
        "## Criar um recurso do Reconhecimento de Formulários\r\n",
        "\r\n",
        "Comece criando um recurso de Reconhecimento de Formulários na sua assinatura do Azure:\r\n",
        "\r\n",
        "1. Em outra guia do navegador, abra o portal do Azure em https://portal.azure.com, entrando com sua conta Microsoft.\r\n",
        "2. Selecione **+ Criar um recurso** e pesquise por * Reconhecimento de Formulários*.\r\n",
        "3. Na lista de serviços, selecione **Reconhecimento de Formulários**.\r\n",
        "4. Na lâmina **Reconhecimento de Formulários**, selecione **Criar**.\r\n",
        "5. Na lâmina **Criar**, insira os detalhes abaixo e selecione **Criar**\r\n",
        "   - **Nome**: um nome exclusivo para seu serviço\r\n",
        "   - **Assinatura**: sua assinatura do Azure\r\n",
        "   - **Região**: Qualquer região disponível\r\n",
        "   - **Tipo de preço**: F0\r\n",
        "   - **Grupo de recursos**: O grupo de recursos existente usado anteriormente\r\n",
        "   - **Confirmo que li e entendi os avisos abaixo**: Selecionado.\r\n",
        "6. Aguarde até que o serviço seja criado.\r\n",
        "7. Veja seu serviço de Reconhecimento de Formulários recém-criado no portal do Azure e na página **Chaves e pontos de extremidade**, copie os valores da **Chave 1** e do **Ponto de extremidade** e cole no código abaixo, substituindo **YOUR_FORM_KEY** e **YOUR_FORM_ENDPOINT**."
      ],
      "metadata": {}
    },
    {
      "cell_type": "code",
      "source": [
        "form_key = 'YOUR_FORM_KEY'\n",
        "form_endpoint = 'YOUR_FORM_ENDPOINT'\n",
        "\n",
        "print('Ready to use form recognizer at {} using key {}'.format(form_endpoint, form_key))"
      ],
      "outputs": [],
      "execution_count": null,
      "metadata": {
        "gather": {
          "logged": 1599694505850
        }
      }
    },
    {
      "cell_type": "markdown",
      "source": [
        "## Analisar um recibo\r\n",
        "\r\n",
        "Agora você já pode usar o Reconhecimento de Formulários para analisar um recibo."
      ],
      "metadata": {}
    },
    {
      "cell_type": "code",
      "source": [
        "import os\n",
        "from azure.ai.formrecognizer import FormRecognizerClient\n",
        "from azure.core.credentials import AzureKeyCredential\n",
        "\n",
        "# Create a client for the form recognizer service\r\n",
        "form_recognizer_client = FormRecognizerClient(endpoint=form_endpoint, credential=AzureKeyCredential(form_key))\n",
        "\n",
        "try:\n",
        "    print(\"Analyzing receipt...\")\n",
        "    # Get the receipt image file\n",
        "    image_path = os.path.join('data', 'form-receipt', 'receipt.jpg')\n",
        "\n",
        "    # Submit the file data to form recognizer\n",
        "    with open(image_path, \"rb\") as f:\n",
        "        analyze_receipt = form_recognizer_client.begin_recognize_receipts(receipt=f)\n",
        "    \n",
        "    # Get the results\n",
        "    receipt_data = analyze_receipt.result()\n",
        "\n",
        "    # Print the extracted data for the first (and only) receipt\n",
        "    receipt = receipt_data[0]\n",
        "    receipt_type = receipt.fields.get(\"ReceiptType\")\n",
        "    if receipt_type:\n",
        "        print(\"Receipt Type: {}\".format(receipt_type.value))\n",
        "    merchant_address = receipt.fields.get(\"MerchantAddress\")\n",
        "    if merchant_address:\n",
        "        print(\"Merchant Address: {}\".format(merchant_address.value))\n",
        "    merchant_phone = receipt.fields.get(\"MerchantPhoneNumber\")\n",
        "    if merchant_phone:\n",
        "        print(\"Merchant Phone: {}\".format(merchant_phone.value))\n",
        "    transaction_date = receipt.fields.get(\"TransactionDate\")\n",
        "    if transaction_date:\n",
        "        print(\"Transaction Date: {}\".format(transaction_date.value))\n",
        "    print(\"Receipt items:\")\n",
        "    items = receipt.fields.get(\"Items\")\n",
        "    if items:\n",
        "        for idx, item in enumerate(receipt.fields.get(\"Items\").value):\n",
        "            print(\"\\tItem #{}\".format(idx+1))\n",
        "            item_name = item.value.get(\"Name\")\n",
        "            if item_name:\n",
        "                print(\"\\t - Name: {}\".format(item_name.value))\n",
        "            item_total_price = item.value.get(\"TotalPrice\")\n",
        "            if item_total_price:\n",
        "                print(\"\\t - Price: {}\".format(item_total_price.value))\n",
        "    subtotal = receipt.fields.get(\"Subtotal\")\n",
        "    if subtotal:\n",
        "        print(\"Subtotal: {} \".format(subtotal.value))\n",
        "    tax = receipt.fields.get(\"Tax\")\n",
        "    if tax:\n",
        "        print(\"Tax: {}\".format(tax.value))\n",
        "    total = receipt.fields.get(\"Total\")\n",
        "    if total:\n",
        "        print(\"Total: {}\".format(total.value))\n",
        "\n",
        "except Exception as ex:\n",
        "    print('Error:', ex)\n"
      ],
      "outputs": [],
      "execution_count": null,
      "metadata": {
        "gather": {
          "logged": 1599694525404
        }
      }
    },
    {
      "cell_type": "markdown",
      "source": [
        "Observe que o Reconhecimento de Formulários é capaz de interpretar os dados do formulário, identificando corretamente o endereço e o número de telefone do comerciante, a data e a hora da transação, além dos itens de linha, subtotal, impostos e valores totais.\r\n",
        "\r\n",
        "## Mais informações\r\n",
        "\r\n",
        "Para mais informações sobre o serviço de Reconhecimento de Formulários, acesse a [documentação de Reconhecimento de Formulários](https://docs.microsoft.com/pt-br/azure/cognitive-services/form-recognizer/index)"
      ],
      "metadata": {}
    }
  ],
  "metadata": {
    "language_info": {
      "name": "python",
      "version": "3.6.9",
      "mimetype": "text/x-python",
      "codemirror_mode": {
        "name": "ipython",
        "version": 3
      },
      "pygments_lexer": "ipython3",
      "nbconvert_exporter": "python",
      "file_extension": ".py"
    },
    "kernelspec": {
      "name": "python3-azureml",
      "language": "python",
      "display_name": "Python 3.6 - AzureML"
    },
    "kernel_info": {
      "name": "python3-azureml"
    },
    "nteract": {
      "version": "nteract-front-end@1.0.0"
    }
  },
  "nbformat": 4,
  "nbformat_minor": 2
}